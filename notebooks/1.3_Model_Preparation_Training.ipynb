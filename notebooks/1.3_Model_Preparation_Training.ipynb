{
 "cells": [
  {
   "cell_type": "code",
   "execution_count": 1,
   "id": "7fd83c5e-67f5-4aa6-b462-e91f7a8a5806",
   "metadata": {},
   "outputs": [
    {
     "name": "stdout",
     "output_type": "stream",
     "text": [
      "Dataset shape: (2065, 6)\n"
     ]
    },
    {
     "data": {
      "text/html": [
       "<div>\n",
       "<style scoped>\n",
       "    .dataframe tbody tr th:only-of-type {\n",
       "        vertical-align: middle;\n",
       "    }\n",
       "\n",
       "    .dataframe tbody tr th {\n",
       "        vertical-align: top;\n",
       "    }\n",
       "\n",
       "    .dataframe thead th {\n",
       "        text-align: right;\n",
       "    }\n",
       "</style>\n",
       "<table border=\"1\" class=\"dataframe\">\n",
       "  <thead>\n",
       "    <tr style=\"text-align: right;\">\n",
       "      <th></th>\n",
       "      <th>Title</th>\n",
       "      <th>Location</th>\n",
       "      <th>Rent</th>\n",
       "      <th>Bathrooms</th>\n",
       "      <th>BHK</th>\n",
       "      <th>Area</th>\n",
       "    </tr>\n",
       "  </thead>\n",
       "  <tbody>\n",
       "    <tr>\n",
       "      <th>0</th>\n",
       "      <td>3 BHK Flat for Rent in L&amp;T Raintree Boulevard,...</td>\n",
       "      <td>L&amp;T Raintree Boulevard, Hebbal</td>\n",
       "      <td>69000</td>\n",
       "      <td>3.0</td>\n",
       "      <td>3.0</td>\n",
       "      <td>986</td>\n",
       "    </tr>\n",
       "    <tr>\n",
       "      <th>1</th>\n",
       "      <td>4 BHK Flat for Rent in Brigade Gateway, Rajaji...</td>\n",
       "      <td>Brigade Gateway, Rajajinagar</td>\n",
       "      <td>100000</td>\n",
       "      <td>4.0</td>\n",
       "      <td>4.0</td>\n",
       "      <td>2000</td>\n",
       "    </tr>\n",
       "    <tr>\n",
       "      <th>2</th>\n",
       "      <td>2 BHK Flat for Rent in Sparkle Marquise, Banne...</td>\n",
       "      <td>Sparkle Marquise, Bannerghatta Main Road</td>\n",
       "      <td>55000</td>\n",
       "      <td>2.0</td>\n",
       "      <td>2.0</td>\n",
       "      <td>834</td>\n",
       "    </tr>\n",
       "    <tr>\n",
       "      <th>3</th>\n",
       "      <td>2 BHK Flat for Rent in Godrej Woodsman Estate,...</td>\n",
       "      <td>Godrej Woodsman Estate, Hebbal</td>\n",
       "      <td>59000</td>\n",
       "      <td>2.0</td>\n",
       "      <td>2.0</td>\n",
       "      <td>1302</td>\n",
       "    </tr>\n",
       "    <tr>\n",
       "      <th>4</th>\n",
       "      <td>4 BHK Flat for Rent in Prestige Estates Shanti...</td>\n",
       "      <td>Prestige Estates Shantiniketan, Whitefield</td>\n",
       "      <td>130000</td>\n",
       "      <td>5.0</td>\n",
       "      <td>4.0</td>\n",
       "      <td>3122</td>\n",
       "    </tr>\n",
       "  </tbody>\n",
       "</table>\n",
       "</div>"
      ],
      "text/plain": [
       "                                               Title  \\\n",
       "0  3 BHK Flat for Rent in L&T Raintree Boulevard,...   \n",
       "1  4 BHK Flat for Rent in Brigade Gateway, Rajaji...   \n",
       "2  2 BHK Flat for Rent in Sparkle Marquise, Banne...   \n",
       "3  2 BHK Flat for Rent in Godrej Woodsman Estate,...   \n",
       "4  4 BHK Flat for Rent in Prestige Estates Shanti...   \n",
       "\n",
       "                                     Location    Rent  Bathrooms  BHK  Area  \n",
       "0              L&T Raintree Boulevard, Hebbal   69000        3.0  3.0   986  \n",
       "1                Brigade Gateway, Rajajinagar  100000        4.0  4.0  2000  \n",
       "2    Sparkle Marquise, Bannerghatta Main Road   55000        2.0  2.0   834  \n",
       "3              Godrej Woodsman Estate, Hebbal   59000        2.0  2.0  1302  \n",
       "4  Prestige Estates Shantiniketan, Whitefield  130000        5.0  4.0  3122  "
      ]
     },
     "execution_count": 1,
     "metadata": {},
     "output_type": "execute_result"
    }
   ],
   "source": [
    "import pandas as pd\n",
    "import numpy as np\n",
    "import matplotlib.pyplot as plt\n",
    "import seaborn as sns\n",
    "\n",
    "from sklearn.model_selection import train_test_split\n",
    "from sklearn.preprocessing import OneHotEncoder\n",
    "from sklearn.linear_model import LinearRegression\n",
    "from sklearn.ensemble import RandomForestRegressor\n",
    "from sklearn.svm import SVR\n",
    "from sklearn.metrics import mean_absolute_error, mean_squared_error, r2_score\n",
    "\n",
    "\n",
    "pd.set_option('display.max_columns', None)\n",
    "\n",
    "\n",
    "df = pd.read_csv('../data/bangalore_rent_data_model_ready.csv')\n",
    "\n",
    "print(f\"Dataset shape: {df.shape}\")\n",
    "df.head()\n"
   ]
  },
  {
   "cell_type": "code",
   "execution_count": 2,
   "id": "80893cca-cfa3-45ac-9043-17f7104acf96",
   "metadata": {},
   "outputs": [
    {
     "name": "stdout",
     "output_type": "stream",
     "text": [
      "Columns used for modeling: ['Location', 'Rent', 'Bathrooms', 'BHK', 'Area']\n"
     ]
    }
   ],
   "source": [
    "df_model = df.drop(['Title'], axis=1)\n",
    "\n",
    "print(\"Columns used for modeling:\", df_model.columns.tolist())\n",
    "\n",
    "X = df_model.drop('Rent', axis=1)\n",
    "y = df_model['Rent']\n"
   ]
  },
  {
   "cell_type": "code",
   "execution_count": 3,
   "id": "e2a2c7dc-00e1-49f3-8e34-6aa1e3dc44a0",
   "metadata": {},
   "outputs": [
    {
     "name": "stdout",
     "output_type": "stream",
     "text": [
      "Shape after one-hot encoding: (2065, 28)\n"
     ]
    }
   ],
   "source": [
    "# Step 3: Handle Categorical Variable - Location\n",
    "\n",
    "# Count of each location\n",
    "location_counts = X['Location'].value_counts()\n",
    "\n",
    "# Replace locations with less than 10 listings as 'Other'\n",
    "locations_to_replace = location_counts[location_counts < 10].index\n",
    "X['Location'] = X['Location'].apply(lambda loc: 'Other' if loc in locations_to_replace else loc)\n",
    "\n",
    "# One-hot encoding for location\n",
    "X_encoded = pd.get_dummies(X, columns=['Location'], drop_first=True)\n",
    "\n",
    "# Show the shape after encoding\n",
    "print(\"Shape after one-hot encoding:\", X_encoded.shape)\n"
   ]
  },
  {
   "cell_type": "code",
   "execution_count": 4,
   "id": "2080ff66-eb0a-4815-8273-460da0a7a9a6",
   "metadata": {},
   "outputs": [],
   "source": [
    "from sklearn.model_selection import train_test_split\n",
    "from sklearn.preprocessing import StandardScaler\n",
    "\n",
    "# Step 4: Train-test split\n",
    "X_train, X_test, y_train, y_test = train_test_split(X_encoded, y, test_size=0.2, random_state=42)\n",
    "\n",
    "# Step 5: Feature Scaling\n",
    "scaler = StandardScaler()\n",
    "X_train_scaled = scaler.fit_transform(X_train)\n",
    "X_test_scaled = scaler.transform(X_test)\n"
   ]
  },
  {
   "cell_type": "code",
   "execution_count": 5,
   "id": "bb009eb5-106e-400d-ba81-433fbf5e0f0e",
   "metadata": {},
   "outputs": [
    {
     "name": "stdout",
     "output_type": "stream",
     "text": [
      "Model Comparison:\n",
      "\n",
      "               Model       MAE      RMSE  R² Score\n",
      "0  Linear Regression  13045.74  21084.55    0.7243\n",
      "3  Gradient Boosting  13156.55  21333.14    0.7178\n",
      "2      Random Forest  14483.97  24716.60    0.6211\n",
      "1                SVR  28894.21  41138.91   -0.0495\n"
     ]
    }
   ],
   "source": [
    "from sklearn.linear_model import LinearRegression\n",
    "from sklearn.svm import SVR\n",
    "from sklearn.ensemble import RandomForestRegressor, GradientBoostingRegressor\n",
    "from sklearn.metrics import mean_absolute_error, mean_squared_error, r2_score\n",
    "import pandas as pd\n",
    "import numpy as np\n",
    "\n",
    "models = {\n",
    "    'Linear Regression': LinearRegression(),\n",
    "    'SVR': SVR(),\n",
    "    'Random Forest': RandomForestRegressor(random_state=42),\n",
    "    'Gradient Boosting': GradientBoostingRegressor(random_state=42)\n",
    "}\n",
    "\n",
    "results = []\n",
    "\n",
    "for name, model in models.items():\n",
    "    model.fit(X_train, y_train)\n",
    "    predictions = model.predict(X_test)\n",
    "\n",
    "    mae = mean_absolute_error(y_test, predictions)\n",
    "    rmse = np.sqrt(mean_squared_error(y_test, predictions))\n",
    "    r2 = r2_score(y_test, predictions)\n",
    "\n",
    "    results.append({\n",
    "        'Model': name,\n",
    "        'MAE': round(mae, 2),\n",
    "        'RMSE': round(rmse, 2),\n",
    "        'R² Score': round(r2, 4)\n",
    "    })\n",
    "\n",
    "#DataFrame for comparison\n",
    "results_df = pd.DataFrame(results).sort_values(by='R² Score', ascending=False)\n",
    "print(\"Model Comparison:\\n\")\n",
    "print(results_df)\n"
   ]
  },
  {
   "cell_type": "code",
   "execution_count": 6,
   "id": "2b56efbb-56c3-4f82-92e3-fabf0cb3ddd4",
   "metadata": {},
   "outputs": [
    {
     "data": {
      "text/plain": [
       "50849.341888619856"
      ]
     },
     "execution_count": 6,
     "metadata": {},
     "output_type": "execute_result"
    }
   ],
   "source": [
    "df['Rent'].mean()\n"
   ]
  },
  {
   "cell_type": "code",
   "execution_count": null,
   "id": "de2dd592-315d-4b78-8320-4d11a288f6a9",
   "metadata": {},
   "outputs": [],
   "source": []
  }
 ],
 "metadata": {
  "kernelspec": {
   "display_name": "Python [conda env:base] *",
   "language": "python",
   "name": "conda-base-py"
  },
  "language_info": {
   "codemirror_mode": {
    "name": "ipython",
    "version": 3
   },
   "file_extension": ".py",
   "mimetype": "text/x-python",
   "name": "python",
   "nbconvert_exporter": "python",
   "pygments_lexer": "ipython3",
   "version": "3.12.7"
  }
 },
 "nbformat": 4,
 "nbformat_minor": 5
}
